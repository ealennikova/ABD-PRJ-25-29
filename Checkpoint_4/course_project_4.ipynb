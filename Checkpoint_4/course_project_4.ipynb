{
 "cells": [
  {
   "cell_type": "code",
   "execution_count": null,
   "id": "545d4827-c250-4090-b06c-57818e95d0a3",
   "metadata": {},
   "outputs": [],
   "source": [
    "# Checkpoint 4"
   ]
  },
  {
   "cell_type": "code",
   "execution_count": 21,
   "id": "36eaa866-2872-41b4-adea-418e4557b2dc",
   "metadata": {},
   "outputs": [],
   "source": [
    "import pandas as pd\n",
    "import numpy as np\n",
    "import matplotlib.pyplot as plt\n",
    "import seaborn as sns"
   ]
  },
  {
   "cell_type": "code",
   "execution_count": 9,
   "id": "90b7b7e1-91c6-4d23-8b77-1331fdc582cb",
   "metadata": {},
   "outputs": [],
   "source": [
    "df_main = pd.read_csv(r\"C:\\course_project\\datasets\\data_main.csv\", sep=',')\n",
    "df_main.columns = df_main.columns.str.strip().str.lower()"
   ]
  },
  {
   "cell_type": "code",
   "execution_count": 15,
   "id": "a39c33e1-4ea8-4def-9aec-06b832dee59d",
   "metadata": {},
   "outputs": [],
   "source": [
    "df = df_main.copy()"
   ]
  },
  {
   "cell_type": "code",
   "execution_count": 16,
   "id": "fc152274-4522-40df-aeaa-479f892de6d4",
   "metadata": {},
   "outputs": [],
   "source": [
    "#Обработка как в предыдущих чекпоинтах но пропуски не трогаем\n",
    "\n",
    "# Удалим выбросы и приведем oxygen к 100 (эти шаги допустимо делать до разделения)\n",
    "def clip_outliers_iqr(df, column):\n",
    "    Q1 = df[column].quantile(0.25)\n",
    "    Q3 = df[column].quantile(0.75)\n",
    "    IQR = Q3 - Q1\n",
    "    lower_bound = Q1 - 1.5 * IQR\n",
    "    upper_bound = Q3 + 1.5 * IQR\n",
    "    df[column] = df[column].clip(lower=lower_bound, upper=upper_bound)\n",
    "    return df\n",
    "\n",
    "for col in ['body temperature', 'hours of sleep']:\n",
    "    df = clip_outliers_iqr(df, col)\n",
    "\n",
    "df['blood oxygen'] = df['blood oxygen'].clip(upper=100)\n",
    "\n",
    "# Сохраняем как df_cleaned_for_split\n",
    "df_cleaned_for_split = df.copy()"
   ]
  },
  {
   "cell_type": "code",
   "execution_count": 17,
   "id": "072eaaa3-2080-4c1a-b62c-d85466c6a100",
   "metadata": {},
   "outputs": [
    {
     "data": {
      "text/plain": [
       "((472, 8), (158, 8), (472,), (158,))"
      ]
     },
     "execution_count": 17,
     "metadata": {},
     "output_type": "execute_result"
    }
   ],
   "source": [
    "from sklearn.model_selection import train_test_split\n",
    "\n",
    "# Отделим признаки и целевую переменную\n",
    "X = df_cleaned_for_split.drop(columns=['stress levels'])\n",
    "y = df_cleaned_for_split['stress levels']\n",
    "\n",
    "# Разделим на обучающую и тестовую выборки\n",
    "X_train, X_test, y_train, y_test = train_test_split(\n",
    "    X, y, test_size=0.25, random_state=42, stratify=y)\n",
    "\n",
    "# Покажем размеры полученных выборок\n",
    "X_train.shape, X_test.shape, y_train.shape, y_test.shape\n"
   ]
  },
  {
   "cell_type": "code",
   "execution_count": 18,
   "id": "1e685a6f-fa21-4853-96b5-18bbcc7773e0",
   "metadata": {},
   "outputs": [
    {
     "data": {
      "text/plain": [
       "(0, 0)"
      ]
     },
     "execution_count": 18,
     "metadata": {},
     "output_type": "execute_result"
    }
   ],
   "source": [
    "# Заполняем пропуски медианой в обучающей выборке\n",
    "X_train_filled = X_train.copy()\n",
    "medians = X_train_filled.median()\n",
    "\n",
    "X_train_filled = X_train_filled.fillna(medians)\n",
    "\n",
    "# Применяем те же медианы к тестовой выборке\n",
    "X_test_filled = X_test.copy()\n",
    "X_test_filled = X_test_filled.fillna(medians)\n",
    "\n",
    "# Проверим, остались ли пропуски\n",
    "missing_train = X_train_filled.isnull().sum().sum()\n",
    "missing_test = X_test_filled.isnull().sum().sum()\n",
    "\n",
    "missing_train, missing_test\n"
   ]
  },
  {
   "cell_type": "code",
   "execution_count": 19,
   "id": "a3b1a4c2-ad4c-4bcc-b16c-ac9dc06c5d00",
   "metadata": {},
   "outputs": [
    {
     "name": "stdout",
     "output_type": "stream",
     "text": [
      "Отчёт по метрикам:\n",
      "\n",
      "              precision    recall  f1-score   support\n",
      "\n",
      "           0       1.00      1.00      1.00        32\n",
      "           1       1.00      0.97      0.98        31\n",
      "           2       0.94      1.00      0.97        32\n",
      "           3       1.00      0.97      0.98        32\n",
      "           4       1.00      1.00      1.00        31\n",
      "\n",
      "    accuracy                           0.99       158\n",
      "   macro avg       0.99      0.99      0.99       158\n",
      "weighted avg       0.99      0.99      0.99       158\n",
      "\n",
      "\n",
      "Матрица ошибок:\n",
      "\n",
      "[[32  0  0  0  0]\n",
      " [ 0 30  1  0  0]\n",
      " [ 0  0 32  0  0]\n",
      " [ 0  0  1 31  0]\n",
      " [ 0  0  0  0 31]]\n"
     ]
    }
   ],
   "source": [
    "from sklearn.linear_model import LogisticRegression\n",
    "from sklearn.metrics import classification_report, confusion_matrix\n",
    "\n",
    "# Обучим логистическую регрессию\n",
    "model = LogisticRegression(max_iter=1000, random_state=42)\n",
    "model.fit(X_train_filled, y_train)\n",
    "\n",
    "# Предсказания\n",
    "y_pred = model.predict(X_test_filled)\n",
    "\n",
    "# Метрики\n",
    "report = classification_report(y_test, y_pred, output_dict=False)\n",
    "conf_matrix = confusion_matrix(y_test, y_pred)\n",
    "\n",
    "print(\"Отчёт по метрикам:\\n\")\n",
    "print(report)\n",
    "print(\"\\nМатрица ошибок:\\n\")\n",
    "print(conf_matrix)"
   ]
  },
  {
   "cell_type": "code",
   "execution_count": null,
   "id": "e0ac37c9-8247-4afd-b955-cfeef510cd54",
   "metadata": {},
   "outputs": [],
   "source": [
    "#Вывод\n",
    "Модель логистической регрессии показала очень высокое качество (accuracy = 99%). Все классы стресс-уровней классифицируются с точностью выше 97%.\n",
    "Ошибки минимальны и происходят только между соседними уровнями, что логично. Модель хорошо обобщает данные и может быть использована как \n",
    "надёжный предсказатель уровня стресса на основе физиологических признаков."
   ]
  },
  {
   "cell_type": "code",
   "execution_count": null,
   "id": "fa736bc7-badb-4a8e-bcee-c13bfe8d4c2b",
   "metadata": {},
   "outputs": [],
   "source": [
    "'''\n",
    "Оценка качества модели:\n",
    "Для оценки качества модели были использованы следующие метрики:\n",
    "Accuracy - доля правильно классифицированных объектов\n",
    "F1-score (взвешенное среднее) - баланс между точностью и полнотой по всем классам\n",
    "Classification report - содержит precision, recall, f1-score, support для каждого класса (Stress Level 0–4)\n",
    "Confusion matrix (матрица ошибок) — показывает, какие классы путаются\n",
    "\n",
    "По результатам модели:\n",
    "Accuracy: 0.99\n",
    "F1-score по всем классам выше 0.97\n",
    "Ошибки возникают только между соседними уровнями стресса (1–2, 2–3), что естественно\n",
    "'''"
   ]
  },
  {
   "cell_type": "code",
   "execution_count": 28,
   "id": "5bf29cc1-f954-48ef-8d37-88c3114a805e",
   "metadata": {},
   "outputs": [
    {
     "data": {
      "image/png": "[encoded data removed]",
      "text/plain": [
       "<Figure size 700x400 with 1 Axes>"
      ]
     },
     "metadata": {},
     "output_type": "display_data"
    },
    {
     "data": {
      "text/html": [
       "<div>\n",
       "<style scoped>\n",
       "    .dataframe tbody tr th:only-of-type {\n",
       "        vertical-align: middle;\n",
       "    }\n",
       "\n",
       "    .dataframe tbody tr th {\n",
       "        vertical-align: top;\n",
       "    }\n",
       "\n",
       "    .dataframe thead th {\n",
       "        text-align: right;\n",
       "    }\n",
       "</style>\n",
       "<table border=\"1\" class=\"dataframe\">\n",
       "  <thead>\n",
       "    <tr style=\"text-align: right;\">\n",
       "      <th></th>\n",
       "      <th>Признак</th>\n",
       "      <th>Средняя важность (коэф)</th>\n",
       "    </tr>\n",
       "  </thead>\n",
       "  <tbody>\n",
       "    <tr>\n",
       "      <th>0</th>\n",
       "      <td>snoring range</td>\n",
       "      <td>0.885280</td>\n",
       "    </tr>\n",
       "    <tr>\n",
       "      <th>1</th>\n",
       "      <td>blood oxygen</td>\n",
       "      <td>0.682136</td>\n",
       "    </tr>\n",
       "    <tr>\n",
       "      <th>2</th>\n",
       "      <td>hours of sleep</td>\n",
       "      <td>0.516796</td>\n",
       "    </tr>\n",
       "    <tr>\n",
       "      <th>3</th>\n",
       "      <td>body temperature</td>\n",
       "      <td>0.488779</td>\n",
       "    </tr>\n",
       "    <tr>\n",
       "      <th>4</th>\n",
       "      <td>heart rate</td>\n",
       "      <td>0.374025</td>\n",
       "    </tr>\n",
       "    <tr>\n",
       "      <th>5</th>\n",
       "      <td>eye movement</td>\n",
       "      <td>0.232218</td>\n",
       "    </tr>\n",
       "    <tr>\n",
       "      <th>6</th>\n",
       "      <td>respiration rate</td>\n",
       "      <td>0.180718</td>\n",
       "    </tr>\n",
       "    <tr>\n",
       "      <th>7</th>\n",
       "      <td>limb movement</td>\n",
       "      <td>0.122321</td>\n",
       "    </tr>\n",
       "  </tbody>\n",
       "</table>\n",
       "</div>"
      ],
      "text/plain": [
       "            Признак  Средняя важность (коэф)\n",
       "0     snoring range                 0.885280\n",
       "1      blood oxygen                 0.682136\n",
       "2    hours of sleep                 0.516796\n",
       "3  body temperature                 0.488779\n",
       "4        heart rate                 0.374025\n",
       "5      eye movement                 0.232218\n",
       "6  respiration rate                 0.180718\n",
       "7     limb movement                 0.122321"
      ]
     },
     "metadata": {},
     "output_type": "display_data"
    }
   ],
   "source": [
    "# Получим абсолютные значения коэффициентов и усредним по классам\n",
    "coef_matrix = np.abs(model.coef_)\n",
    "mean_coefs = coef_matrix.mean(axis=0)\n",
    "\n",
    "# Связать признаки с их важностью\n",
    "feature_importance = pd.DataFrame({\n",
    "    \"Признак\": X_train_filled.columns,\n",
    "    \"Средняя важность (коэф)\": mean_coefs\n",
    "}).sort_values(by=\"Средняя важность (коэф)\", ascending=False)\n",
    "\n",
    "# Визуализация\n",
    "plt.figure(figsize=(7, 4))\n",
    "plt.barh(feature_importance[\"Признак\"], feature_importance[\"Средняя важность (коэф)\"])\n",
    "plt.gca().invert_yaxis()\n",
    "plt.title(\"Значимость признаков в логистической регрессии (усреднённая по классам)\")\n",
    "plt.xlabel(\"Среднее абсолютное значение коэффициента\")\n",
    "plt.tight_layout()\n",
    "plt.grid(True, axis='x', linestyle='--', alpha=0.6)\n",
    "plt.show()\n",
    "\n",
    "# Покажем таблицу\n",
    "feature_importance.reset_index(drop=True, inplace=True)\n",
    "display(feature_importance)"
   ]
  },
  {
   "cell_type": "code",
   "execution_count": null,
   "id": "37789d34-0265-48af-888a-d4fab6b1ee45",
   "metadata": {},
   "outputs": [],
   "source": [
    "'''\n",
    "После обучения логистической регрессии и анализа коэффициентов признаков (model.coef_), были определены наиболее значимые физиологические параметры, \n",
    "влияющие на предсказание уровня стресса.Влияние признаков оценивалось по среднему абсолютному значению коэффициентов по всем классам (Stress Level 0-4).\n",
    "Наиболее значимыми признаками оказались:\n",
    "snoring range - 0.885\n",
    "blood oxygen - 0.682\n",
    "hours of sleep - 0.517\n",
    "body temperature - 0.489\n",
    "Эти признаки имеют наибольшее влияние на принятие решений моделью и, вероятно, играют ключевую роль в физиологических реакциях на стресс.\n",
    "\n",
    "Менее значимыми оказались:\n",
    "respiration rate - 0.18\n",
    "limb movement - 0.12\n",
    "Такие признаки могут быть менее чувствительны к изменению уровня стресса, или их влияние может быть более косвенным.\n",
    "'''"
   ]
  },
  {
   "cell_type": "code",
   "execution_count": 29,
   "id": "b00f6807-d4fd-4b28-95d3-5a9669604ab8",
   "metadata": {},
   "outputs": [
    {
     "name": "stdout",
     "output_type": "stream",
     "text": [
      "Оценка модели с топ-5 признаками:\n",
      "\n",
      "              precision    recall  f1-score   support\n",
      "\n",
      "           0       1.00      1.00      1.00        32\n",
      "           1       1.00      0.97      0.98        31\n",
      "           2       1.00      0.97      0.98        32\n",
      "           3       0.94      1.00      0.97        32\n",
      "           4       1.00      1.00      1.00        31\n",
      "\n",
      "    accuracy                           0.99       158\n",
      "   macro avg       0.99      0.99      0.99       158\n",
      "weighted avg       0.99      0.99      0.99       158\n",
      "\n"
     ]
    }
   ],
   "source": [
    "# попробуем сделать отбор признаков\n",
    "\n",
    "\n",
    "# Оставим только топ-5 признаков по важности\n",
    "top_features = feature_importance[\"Признак\"].head(5).tolist()\n",
    "\n",
    "# Выбираем только эти признаки\n",
    "X_train_top = X_train_filled[top_features]\n",
    "X_test_top = X_test_filled[top_features]\n",
    "\n",
    "# Обучаем модель только на этих признаках\n",
    "model_top = LogisticRegression(max_iter=1000, random_state=42)\n",
    "model_top.fit(X_train_top, y_train)\n",
    "\n",
    "# Предсказания и метрики\n",
    "y_pred_top = model_top.predict(X_test_top)\n",
    "report_top = classification_report(y_test, y_pred_top, output_dict=False)\n",
    "\n",
    "print(\"Оценка модели с топ-5 признаками:\\n\")\n",
    "print(report_top)\n"
   ]
  },
  {
   "cell_type": "code",
   "execution_count": null,
   "id": "e218a35d-4e62-4bdc-8760-74b0e9f3b1db",
   "metadata": {},
   "outputs": [],
   "source": [
    "''''\n",
    "#вывод\n",
    "После удаления малозначимых признаков (limb movement, respiration rate, eye movement) модель всё ещё показывает:\n",
    "accuracy = 0.99\n",
    "f1-score ≥ 0.97 для всех классов\n",
    "Это доказывает, что упрощённая модель не теряет в качестве, а значит, более интерпретируема и устойчива\n",
    "'''"
   ]
  },
  {
   "cell_type": "code",
   "execution_count": 32,
   "id": "6fbd0d91-feb8-4f36-a787-28f36e48f019",
   "metadata": {},
   "outputs": [
    {
     "name": "stdout",
     "output_type": "stream",
     "text": [
      "Оценка модели с добавленными признаками:\n",
      "\n",
      "              precision    recall  f1-score   support\n",
      "\n",
      "           0       1.00      1.00      1.00        32\n",
      "           1       0.97      1.00      0.98        31\n",
      "           2       1.00      0.97      0.98        32\n",
      "           3       1.00      1.00      1.00        32\n",
      "           4       1.00      1.00      1.00        31\n",
      "\n",
      "    accuracy                           0.99       158\n",
      "   macro avg       0.99      0.99      0.99       158\n",
      "weighted avg       0.99      0.99      0.99       158\n",
      "\n"
     ]
    }
   ],
   "source": [
    "#  а теперь попробуем  создадим новые признаки\n",
    "\n",
    "# Создание новых признаков на уже существующих X_train_filled и X_test_filled\n",
    "X_train_new = X_train_filled.copy()\n",
    "X_test_new = X_test_filled.copy()\n",
    "\n",
    "# Новый признак 1: соотношение храпа ко сну\n",
    "X_train_new[\"snore_to_sleep_ratio\"] = X_train_new[\"snoring range\"] / (X_train_new[\"hours of sleep\"] + 1)\n",
    "X_test_new[\"snore_to_sleep_ratio\"] = X_test_new[\"snoring range\"] / (X_test_new[\"hours of sleep\"] + 1)\n",
    "\n",
    "# Новый признак 2: частота пульса на насыщение кислородом\n",
    "X_train_new[\"pulse_per_oxygen\"] = X_train_new[\"heart rate\"] / (X_train_new[\"blood oxygen\"] + 1)\n",
    "X_test_new[\"pulse_per_oxygen\"] = X_test_new[\"heart rate\"] / (X_test_new[\"blood oxygen\"] + 1)\n",
    "\n",
    "# Новый признак 3: эффективность сна (кислород / часы сна)\n",
    "X_train_new[\"sleep_efficiency\"] = X_train_new[\"blood oxygen\"] / (X_train_new[\"hours of sleep\"] + 1)\n",
    "X_test_new[\"sleep_efficiency\"] = X_test_new[\"blood oxygen\"] / (X_test_new[\"hours of sleep\"] + 1)\n",
    "\n",
    "# Обучение модели\n",
    "model_new = LogisticRegression(max_iter=1000, random_state=42)\n",
    "model_new.fit(X_train_new, y_train)\n",
    "\n",
    "# Предсказания и метрики\n",
    "y_pred_new = model_new.predict(X_test_new)\n",
    "report_new = classification_report(y_test, y_pred_new, output_dict=False)\n",
    "\n",
    "print(\"Оценка модели с добавленными признаками:\\n\")\n",
    "print(report_new)\n"
   ]
  },
  {
   "cell_type": "code",
   "execution_count": null,
   "id": "937cff40-70e2-423d-a651-c4f9d73414d8",
   "metadata": {},
   "outputs": [],
   "source": [
    "'''\n",
    "#Вывод\n",
    "В рамках улучшения модели были созданы три новых признака на основе комбинации физиологических данных. \n",
    "После добавления новых признаков, модель логистической регрессии показала те же отличные метрики (accuracy = 0.99, f1 ≥ 0.97), \n",
    "что говорит об устойчивости и потенциальной пользе инженерных преобразований для повышения интерпретируемости модели.\n",
    "'''"
   ]
  }
 ],
 "metadata": {
  "kernelspec": {
   "display_name": "Python 3 (ipykernel)",
   "language": "python",
   "name": "python3"
  },
  "language_info": {
   "codemirror_mode": {
    "name": "ipython",
    "version": 3
   },
   "file_extension": ".py",
   "mimetype": "text/x-python",
   "name": "python",
   "nbconvert_exporter": "python",
   "pygments_lexer": "ipython3",
   "version": "3.12.4"
  }
 },
 "nbformat": 4,
 "nbformat_minor": 5
}
